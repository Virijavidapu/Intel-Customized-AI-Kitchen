{
  "cells": [
    {
      "cell_type": "markdown",
      "metadata": {
        "id": "-8MMwvxWx-PX"
      },
      "source": [
        "### Installing Dependencies"
      ]
    },
    {
      "cell_type": "code",
      "execution_count": null,
      "metadata": {
        "id": "7xfS4haDIUWS"
      },
      "outputs": [],
      "source": [
        "# Install the ultralytics library, which includes YOLOv8\n",
        "!pip install ultralytics\n",
        "\n",
        "# Install the roboflow library for dataset downloading\n",
        "!pip install roboflow"
      ]
    },
    {
      "cell_type": "markdown",
      "metadata": {
        "id": "nLd56i7lyOwH"
      },
      "source": [
        "### Downloading the Dataset"
      ]
    },
    {
      "cell_type": "code",
      "execution_count": null,
      "metadata": {
        "id": "bReuEcVLIcgY"
      },
      "outputs": [],
      "source": [
        "from roboflow import Roboflow\n",
        "\n",
        "# Dataset Download code from roboflow website\n",
        "rf = Roboflow(api_key=\"v1w9w12yPZjGBOHbvFUS\")\n",
        "project = rf.workspace(\"vegetables\").project(\"vegetables-el4g6\")\n",
        "version = project.version(1)\n",
        "# Download the dataset in YOLOv8 format\n",
        "dataset = version.download(\"yolov8\")"
      ]
    },
    {
      "cell_type": "markdown",
      "metadata": {
        "id": "nzpurLa2ydRf"
      },
      "source": [
        "### Loading and Training the YOLOv8 Model"
      ]
    },
    {
      "cell_type": "code",
      "execution_count": null,
      "metadata": {
        "id": "hDMF4tFcIc6C"
      },
      "outputs": [],
      "source": [
        "from ultralytics import YOLO\n",
        "\n",
        "# Load the pretrained YOLOv8 model\n",
        "model = YOLO(\"yolov8n.pt\")\n",
        "\n",
        "# Train the model on the downloaded dataset for 25 epochs\n",
        "model.train(data=\"data.yaml path which from downloaded dataset\", epochs=25, imgsz=640)"
      ]
    },
    {
      "cell_type": "markdown",
      "metadata": {
        "id": "p56m55TPyjed"
      },
      "source": [
        "### Validating the Model"
      ]
    },
    {
      "cell_type": "code",
      "execution_count": null,
      "metadata": {
        "id": "JC3JHO0jIc9D"
      },
      "outputs": [],
      "source": [
        "# Validate the trained model\n",
        "metrics = model.val()\n",
        "\n",
        "# Print the validation metrics\n",
        "print(\"Validation Metrics:\")\n",
        "print(f\"mAP@0.5: {metrics.box.map50:.4f}\")  # Mean Average Precision at IoU 0.5\n",
        "print(f\"mAP@0.5:0.95: {metrics.box.map:.4f}\")  # Mean Average Precision at IoU 0.5:0.95\n",
        "print(f\"Precision: {metrics.box.mp:.4f}\")  # Use mp for mean precision\n",
        "print(f\"Recall: {metrics.box.mr:.4f}\")  # Use mr for mean recall"
      ]
    },
    {
      "cell_type": "markdown",
      "metadata": {
        "id": "sJj_UU-MywMm"
      },
      "source": [
        "### Accessing and Saving the Best Model"
      ]
    },
    {
      "cell_type": "code",
      "execution_count": null,
      "metadata": {
        "id": "oK67Ljzwx7T4"
      },
      "outputs": [],
      "source": [
        "# Access the best model from the training run\n",
        "model_best = YOLO('/content/runs/detect/train/weights/best.pt')\n",
        "\n",
        "# Test the model with an example image\n",
        "results = model_best('test_image_path')\n",
        "\n",
        "# Save the best model to a specified location\n",
        "model_best.save('/content/drive/MyDrive/yolosaved_bestdataset_2_epoch25.pt')"
      ]
    }
  ],
  "metadata": {
    "colab": {
      "provenance": []
    },
    "kernelspec": {
      "display_name": "Python 3",
      "name": "python3"
    },
    "language_info": {
      "name": "python"
    }
  },
  "nbformat": 4,
  "nbformat_minor": 0
}
