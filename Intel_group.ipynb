{"nbformat":4,"nbformat_minor":0,"metadata":{"colab":{"provenance":[],"authorship_tag":"ABX9TyPDcmVTQfp1FLpgLbmzx5cD"},"kernelspec":{"name":"python3","display_name":"Python 3"},"language_info":{"name":"python"}},"cells":[{"cell_type":"code","execution_count":null,"metadata":{"id":"Akp-hFeOJLbT"},"outputs":[],"source":["!pip install ultralytics"]},{"cell_type":"code","source":["from ultralytics import YOLO"],"metadata":{"id":"mrNySdk0JRMQ"},"execution_count":null,"outputs":[]},{"cell_type":"code","source":["model_best2 = YOLO('enter the model path')"],"metadata":{"id":"0gQ6Sp1mJRRs"},"execution_count":null,"outputs":[]},{"cell_type":"code","source":["model_best2('Image_Path to Predict')"],"metadata":{"id":"iIuS3fFWJRY9"},"execution_count":null,"outputs":[]}]}

!pip install ultralytics
from ultralytics import YOLO
model_best2 = YOLO('https://drive.google.com/file/d/1RXGbsYTOzPwFQ7MLs8cRo79MSXnWg0xx/view?ts=667c3914')
model_best2('Image_Path to Predict')

